{
  "nbformat": 4,
  "nbformat_minor": 0,
  "metadata": {
    "colab": {
      "provenance": [],
      "authorship_tag": "ABX9TyOckzLDCcNzjnAvw/gNO/we",
      "include_colab_link": true
    },
    "kernelspec": {
      "name": "python3",
      "display_name": "Python 3"
    },
    "language_info": {
      "name": "python"
    }
  },
  "cells": [
    {
      "cell_type": "markdown",
      "metadata": {
        "id": "view-in-github",
        "colab_type": "text"
      },
      "source": [
        "<a href=\"https://colab.research.google.com/github/AbdulazizAljumaia/AbdulazizAljumaia.github.io/blob/master/homework2.ipynb\" target=\"_parent\"><img src=\"https://colab.research.google.com/assets/colab-badge.svg\" alt=\"Open In Colab\"/></a>"
      ]
    },
    {
      "cell_type": "code",
      "execution_count": null,
      "metadata": {
        "id": "V5e-KlOm6U6B"
      },
      "outputs": [],
      "source": [
        "\n",
        "# Define the Student class\n",
        "class Student:\n",
        "    \"\"\" A class to represent a student. \"\"\"\n",
        "\n",
        "    # Constructor to initialize the student object\n",
        "    def __init__(self, student_id, name, level):\n",
        "        \"\"\"\n",
        "        Initialize the student with ID, name, and level.\n",
        "        Marks are stored in a list.\n",
        "        \"\"\"\n",
        "        self.student_id = student_id\n",
        "        self.name = name\n",
        "        self.level = level\n",
        "        self.marks = []\n",
        "\n",
        "    # Method to add a mark to the student's marks list\n",
        "    def add_mark(self, mark):\n",
        "        \"\"\"\n",
        "        Add a given mark to the student's marks list.\n",
        "        \"\"\"\n",
        "        self.marks.append(mark)\n",
        "\n",
        "    # Method to dump student information\n",
        "    def dump(self):\n",
        "        \"\"\"\n",
        "        Return a string representation of the student's information,\n",
        "        including their ID, name, level, and marks.\n",
        "        \"\"\"\n",
        "        return f\"ID: {self.student_id}, Name: {self.name}, Level: {self.level}, Marks: {self.marks}\""
      ]
    },
    {
      "cell_type": "code",
      "source": [
        "\n",
        "# Function to create a student from file data\n",
        "def create_student(file_name, student_id):\n",
        "    \"\"\"\n",
        "    Create a student object from a given file and student ID.\n",
        "    Reads the file, finds the student row by ID, and creates a student object.\n",
        "    \"\"\"\n",
        "    with open(file_name, 'r') as file:\n",
        "        for line in file:\n",
        "            data = line.strip().split(',')\n",
        "            if data[0] == student_id:\n",
        "                student = Student(data[0], data[1], data[2])\n",
        "                for mark in data[3:]:\n",
        "                    student.add_mark(int(mark))\n",
        "                return student\n",
        "    return None"
      ],
      "metadata": {
        "id": "fWTxL8ZU6Y1G"
      },
      "execution_count": null,
      "outputs": []
    },
    {
      "cell_type": "code",
      "source": [
        "\n",
        "import numpy as np\n",
        "import matplotlib.pyplot as plt\n",
        "\n",
        "# Function to draw two functions and their intersection\n",
        "def draw_functions_and_intersection():\n",
        "    \"\"\"\n",
        "    Draw two functions and their intersection using matplotlib.\n",
        "    The functions are defined as f(x) = x**2 and g(x) = 2*x + 3.\n",
        "    \"\"\"\n",
        "    x = np.linspace(0, 10, 50)\n",
        "    f_x = x**2\n",
        "    g_x = 2*x + 3\n",
        "\n",
        "    plt.plot(x, f_x, label='f(x) = x^2')\n",
        "    plt.plot(x, g_x, label='g(x) = 2x + 3')\n",
        "\n",
        "    # Finding and plotting the intersection\n",
        "    idx = np.argwhere(np.isclose(f_x, g_x)).flatten()\n",
        "    plt.scatter(x[idx], f_x[idx], color='red', marker='x', label='Intersection')\n",
        "\n",
        "    plt.xlabel('x')\n",
        "    plt.ylabel('y')\n",
        "    plt.legend()\n",
        "    plt.show()\n",
        "\n",
        "# Call the function to draw the graphs\n",
        "draw_functions_and_intersection()"
      ],
      "metadata": {
        "colab": {
          "base_uri": "https://localhost:8080/",
          "height": 222
        },
        "id": "EgXQZZJF6c5Q",
        "outputId": "217e1639-b7b4-408f-b277-e2ae627f80e7"
      },
      "execution_count": null,
      "outputs": [
        {
          "output_type": "display_data",
          "data": {
            "text/plain": [
              "<Figure size 640x480 with 1 Axes>"
            ],
            "image/png": "[encoded data removed]"
          },
          "metadata": {}
        }
      ]
    },
    {
      "cell_type": "code",
      "source": [
        "\n",
        "# Function to normalize columns of an array\n",
        "def normalize_columns(arr):\n",
        "    \"\"\"\n",
        "    Normalize the columns of a numpy array.\n",
        "    Subtracts the mean and divides by the standard deviation for each column.\n",
        "    \"\"\"\n",
        "    mean = np.mean(arr, axis=0)\n",
        "    std = np.std(arr, axis=0)\n",
        "    return (arr - mean) / std\n",
        "\n",
        "# Example usage\n",
        "# arr = np.array([[...]]) # Replace with your array data\n",
        "# normalized_arr = normalize_columns(arr)"
      ],
      "metadata": {
        "id": "4Yd9ljBz6ikh"
      },
      "execution_count": null,
      "outputs": []
    },
    {
      "cell_type": "code",
      "source": [
        "# Function to replace below-average values with the mean\n",
        "def replace_below_average(arr):\n",
        "    \"\"\"\n",
        "    Replace all below-average values in a numpy array with the mean value.\n",
        "    Calculates the mean and replaces values less than the mean.\n",
        "    \"\"\"\n",
        "    mean = np.mean(arr)\n",
        "    arr[arr < mean] = mean\n",
        "    return arr\n",
        "\n",
        "# Example usage\n",
        "# arr = np.array([[...]]) # Replace with your array data\n",
        "# updated_arr = replace_below_average(arr)"
      ],
      "metadata": {
        "id": "r6pSIcRX6zaN"
      },
      "execution_count": null,
      "outputs": []
    },
    {
      "cell_type": "code",
      "source": [
        "# Function to sort array rows by their sum\n",
        "def sort_rows_by_sum(arr):\n",
        "    \"\"\"\n",
        "    Sort the rows of a numpy array according to the sum of elements in each row.\n",
        "    \"\"\"\n",
        "    return arr[np.argsort(np.sum(arr, axis=1))]\n",
        "\n",
        "# Example usage\n",
        "# arr = np.array([[...]]) # Replace with your array data\n",
        "# sorted_arr = sort_rows_by_sum(arr)"
      ],
      "metadata": {
        "id": "SwWKYcGp63VH"
      },
      "execution_count": null,
      "outputs": []
    }
  ]
}